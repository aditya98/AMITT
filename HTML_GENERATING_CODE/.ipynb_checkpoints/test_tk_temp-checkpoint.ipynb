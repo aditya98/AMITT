{
 "cells": [
  {
   "cell_type": "code",
   "execution_count": null,
   "metadata": {},
   "outputs": [],
   "source": [
    "import tkinter as tk\n",
    "\n",
    "window = tk.Tk()\n",
    "greeting = tk.Label(text=\"Python ricks like a broken rockshaw\", fg=\"red\", bg=\"blue\", width=10, height=10)\n",
    "greeting.pack()\n",
    "window.mainloop() #event loop"
   ]
  },
  {
   "cell_type": "code",
   "execution_count": 16,
   "metadata": {},
   "outputs": [],
   "source": [
    "import tkinter as tk\n",
    "from tkmacosx import Button as macbutton\n",
    "\n",
    "window = tk.Tk()\n",
    "\n",
    "mybutton = macbutton(\n",
    "    text=\"Click me!\",\n",
    "    width=150,\n",
    "    height=150, #mac heights are pixels, not characters\n",
    "    fg=\"red\",\n",
    "    bg=\"blue\")\n",
    "\n",
    "entry = tk.Entry(fg=\"yellow\", bg=\"blue\", width=50)\n",
    "\n",
    "mybutton.pack()\n",
    "entry.pack()\n",
    "window.mainloop()"
   ]
  },
  {
   "cell_type": "code",
   "execution_count": 19,
   "metadata": {},
   "outputs": [],
   "source": [
    "import tkinter as tk\n",
    "\n",
    "window = tk.Tk()\n",
    "frame = tk.Frame()\n",
    "label = tk.Label(master=frame)\n",
    "frame.pack()\n",
    "window.mainloop()"
   ]
  },
  {
   "cell_type": "code",
   "execution_count": 20,
   "metadata": {},
   "outputs": [],
   "source": [
    "import tkinter as tk\n",
    "\n",
    "window = tk.Tk()\n",
    "\n",
    "frame_a = tk.Frame()\n",
    "frame_b = tk.Frame()\n",
    "\n",
    "label_a = tk.Label(master=frame_a, text=\"I'm in Frame A\")\n",
    "label_a.pack()\n",
    "\n",
    "label_b = tk.Label(master=frame_b, text=\"I'm in Frame B\")\n",
    "label_b.pack()\n",
    "\n",
    "frame_a.pack()\n",
    "frame_b.pack()\n",
    "\n",
    "window.mainloop()"
   ]
  },
  {
   "cell_type": "code",
   "execution_count": 21,
   "metadata": {},
   "outputs": [],
   "source": [
    "import tkinter as tk\n",
    "\n",
    "border_effects = {\n",
    "    \"flat\": tk.FLAT,\n",
    "    \"sunken\": tk.SUNKEN,\n",
    "    \"raised\": tk.RAISED,\n",
    "    \"groove\": tk.GROOVE,\n",
    "    \"ridge\": tk.RIDGE,\n",
    "}\n",
    "\n",
    "window = tk.Tk()\n",
    "\n",
    "for relief_name, relief in border_effects.items():\n",
    "    frame = tk.Frame(master=window, relief=relief, borderwidth=5)\n",
    "    frame.pack(side=tk.LEFT)\n",
    "    label = tk.Label(master=frame, text=relief_name)\n",
    "    label.pack()\n",
    "\n",
    "window.mainloop()"
   ]
  },
  {
   "cell_type": "code",
   "execution_count": null,
   "metadata": {},
   "outputs": [],
   "source": []
  }
 ],
 "metadata": {
  "kernelspec": {
   "display_name": "Python 3",
   "language": "python",
   "name": "python3"
  },
  "language_info": {
   "codemirror_mode": {
    "name": "ipython",
    "version": 3
   },
   "file_extension": ".py",
   "mimetype": "text/x-python",
   "name": "python",
   "nbconvert_exporter": "python",
   "pygments_lexer": "ipython3",
   "version": "3.8.3"
  }
 },
 "nbformat": 4,
 "nbformat_minor": 4
}
