{
 "cells": [
  {
   "cell_type": "code",
   "execution_count": 2,
   "metadata": {
    "scrolled": true
   },
   "outputs": [
    {
     "name": "stdout",
     "output_type": "stream",
     "text": [
      "updated ../amitt_red_framework.md\n",
      "updated ../amitt_red_framework_clickable.html\n",
      "updated ../amitt_blue_framework.md\n",
      "updated ../amitt_blue_framework_clickable.html\n",
      "updated ../phases_index.md\n",
      "updated ../tactics_index.md\n",
      "updated ../techniques_index.md\n",
      "updated ../tasks_index.md\n",
      "updated ../incidents_index.md\n",
      "updated ../counters_index.md\n",
      "Updating ../counters/C00006.md\n",
      "Updating ../counters/C00006.md\n",
      "updated ../metatechniques_index.md\n",
      "updated ../actors_index.md\n",
      "updated ../responsetype_index.md\n",
      "updated ../detections_index.md\n",
      "updated ../tactics_by_responsetype_table.md\n",
      "updated ../metatechniques_by_responsetype_table.md\n"
     ]
    }
   ],
   "source": [
    "import pandas as pd\n",
    "from generate_amitt_ttps import Amitt\n",
    "amitt = Amitt()\n",
    "amitt.generate_and_write_datafiles()"
   ]
  },
  {
   "cell_type": "code",
   "execution_count": null,
   "metadata": {},
   "outputs": [],
   "source": [
    "# Check which amitt variables we can see from here\n",
    "print('{}'.format(vars(amitt).keys()))\n",
    "vars(amitt)['tactics']"
   ]
  },
  {
   "cell_type": "markdown",
   "metadata": {},
   "source": [
    "# TEST AREA"
   ]
  },
  {
   "cell_type": "code",
   "execution_count": null,
   "metadata": {},
   "outputs": [],
   "source": [
    "import pandas as pd\n",
    "from generate_amitt_ttps import Amitt\n",
    "amitt = Amitt()"
   ]
  },
  {
   "cell_type": "code",
   "execution_count": null,
   "metadata": {},
   "outputs": [],
   "source": [
    "ct = amitt.cross_counterid_techniqueid\n",
    "ct['Weight'] = 1\n",
    "ct = ct[ct['technique_id'].str.len() > 0]\n",
    "ct.to_csv('../visualisations/cross_counterid_techniqueid.csv', index=False, header=['Source','Target', 'Weight'])\n",
    "ct"
   ]
  },
  {
   "cell_type": "code",
   "execution_count": null,
   "metadata": {},
   "outputs": [],
   "source": []
  },
  {
   "cell_type": "code",
   "execution_count": null,
   "metadata": {},
   "outputs": [],
   "source": []
  }
 ],
 "metadata": {
  "kernelspec": {
   "display_name": "Python 3",
   "language": "python",
   "name": "python3"
  },
  "language_info": {
   "codemirror_mode": {
    "name": "ipython",
    "version": 3
   },
   "file_extension": ".py",
   "mimetype": "text/x-python",
   "name": "python",
   "nbconvert_exporter": "python",
   "pygments_lexer": "ipython3",
   "version": "3.8.3"
  }
 },
 "nbformat": 4,
 "nbformat_minor": 4
}
