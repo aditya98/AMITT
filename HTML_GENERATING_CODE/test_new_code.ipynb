{
 "cells": [
  {
   "cell_type": "code",
   "execution_count": 1,
   "metadata": {
    "scrolled": true
   },
   "outputs": [
    {
     "name": "stdout",
     "output_type": "stream",
     "text": [
      "updated ../amitt_red_framework.md\n",
      "updated ../amitt_red_framework_clickable.html\n",
      "updated ../amitt_blue_framework.md\n",
      "updated ../amitt_blue_framework_clickable.html\n",
      "updated ../phases_index.md\n",
      "updated ../tactics_index.md\n",
      "Updating ../tactics/TA01.md\n",
      "Updating ../tactics/TA06.md\n",
      "Updating ../tactics/TA07.md\n",
      "Updating ../tactics/TA08.md\n",
      "Updating ../tactics/TA09.md\n",
      "Updating ../tactics/TA11.md\n",
      "Updating ../tactics/TA12.md\n",
      "updated ../techniques_index.md\n",
      "Updating ../techniques/T0001.md\n",
      "Updating ../techniques/T0002.md\n",
      "Updating ../techniques/T0003.md\n",
      "Updating ../techniques/T0007.md\n",
      "Updating ../techniques/T0008.md\n",
      "Updating ../techniques/T0009.md\n",
      "Updating ../techniques/T0010.md\n",
      "Updating ../techniques/T0011.md\n",
      "Updating ../techniques/T0013.md\n",
      "Updating ../techniques/T0014.md\n",
      "Updating ../techniques/T0015.md\n",
      "Updating ../techniques/T0016.md\n",
      "Updating ../techniques/T0017.md\n",
      "Updating ../techniques/T0018.md\n",
      "Updating ../techniques/T0020.md\n",
      "Updating ../techniques/T0021.md\n",
      "Updating ../techniques/T0022.md\n",
      "Updating ../techniques/T0024.md\n",
      "Updating ../techniques/T0025.md\n",
      "Updating ../techniques/T0026.md\n",
      "Updating ../techniques/T0027.md\n",
      "Updating ../techniques/T0029.md\n",
      "Updating ../techniques/T0039.md\n",
      "Updating ../techniques/T0044.md\n",
      "Updating ../techniques/T0045.md\n",
      "Updating ../techniques/T0046.md\n",
      "Updating ../techniques/T0048.md\n",
      "Updating ../techniques/T0049.md\n",
      "Updating ../techniques/T0051.md\n",
      "Updating ../techniques/T0052.md\n",
      "Updating ../techniques/T0053.md\n",
      "Updating ../techniques/T0054.md\n",
      "Updating ../techniques/T0055.md\n",
      "Updating ../techniques/T0056.md\n",
      "Updating ../techniques/T0057.md\n",
      "Updating ../techniques/T0061.md\n",
      "Updating ../techniques/T0063.md\n",
      "updated ../tasks_index.md\n",
      "updated ../incidents_index.md\n",
      "updated ../counters_index.md\n",
      "Updating ../counters/C00006.md\n",
      "Updating ../counters/C00006.md\n",
      "Updating ../counters/C00012.md\n",
      "Updating ../counters/C00026.md\n",
      "Updating ../counters/C00030.md\n",
      "Updating ../counters/C00056.md\n",
      "Updating ../counters/C00073.md\n",
      "Updating ../counters/C00090.md\n",
      "Updating ../counters/C00101.md\n",
      "Updating ../counters/C00103.md\n",
      "Updating ../counters/C00107.md\n",
      "Updating ../counters/C00111.md\n",
      "Updating ../counters/C00117.md\n",
      "Updating ../counters/C00122.md\n",
      "Updating ../counters/C00139.md\n",
      "Updating ../counters/C00144.md\n",
      "Updating ../counters/C00149.md\n",
      "Updating ../counters/C00172.md\n",
      "Updating ../counters/C00174.md\n",
      "Updating ../counters/C00178.md\n",
      "Updating ../counters/C00182.md\n",
      "Updating ../counters/C00188.md\n",
      "Updating ../counters/C00190.md\n",
      "Updating ../counters/C00195.md\n",
      "Updating ../counters/C00200.md\n",
      "Updating ../counters/C00211.md\n",
      "updated ../metatechniques_index.md\n",
      "Updating ../metatechniques/M001.md\n",
      "Updating ../metatechniques/M002.md\n",
      "Updating ../metatechniques/M003.md\n",
      "Updating ../metatechniques/M004.md\n",
      "Updating ../metatechniques/M005.md\n",
      "Updating ../metatechniques/M007.md\n",
      "Updating ../metatechniques/M008.md\n",
      "Updating ../metatechniques/M010.md\n",
      "updated ../actors_index.md\n",
      "Updating ../actors/A006.md\n",
      "Updating ../actors/A018.md\n",
      "Updating ../actors/A020.md\n",
      "Updating ../actors/A021.md\n",
      "Updating ../actors/A027.md\n",
      "Updating ../actors/A028.md\n",
      "Updating ../actors/A031.md\n",
      "updated ../responsetype_index.md\n",
      "updated ../detections_index.md\n",
      "updated ../tactics_by_responsetype_table.md\n",
      "updated ../metatechniques_by_responsetype_table.md\n"
     ]
    }
   ],
   "source": [
    "import pandas as pd\n",
    "from generate_amitt_ttps import Amitt\n",
    "amitt = Amitt()\n",
    "amitt.generate_and_write_datafiles()"
   ]
  },
  {
   "cell_type": "code",
   "execution_count": null,
   "metadata": {},
   "outputs": [],
   "source": [
    "# Check which amitt variables we can see from here\n",
    "print('{}'.format(vars(amitt).keys()))\n",
    "vars(amitt)['tactics']"
   ]
  },
  {
   "cell_type": "markdown",
   "metadata": {},
   "source": [
    "# TEST AREA"
   ]
  },
  {
   "cell_type": "code",
   "execution_count": null,
   "metadata": {},
   "outputs": [],
   "source": [
    "import pandas as pd\n",
    "from generate_amitt_ttps import Amitt\n",
    "amitt = Amitt()"
   ]
  },
  {
   "cell_type": "code",
   "execution_count": null,
   "metadata": {},
   "outputs": [],
   "source": [
    "ct = amitt.cross_counterid_techniqueid\n",
    "ct['Weight'] = 1\n",
    "ct = ct[ct['technique_id'].str.len() > 0]\n",
    "ct.to_csv('../visualisations/cross_counterid_techniqueid.csv', index=False, header=['Source','Target', 'Weight'])\n",
    "ct"
   ]
  },
  {
   "cell_type": "code",
   "execution_count": null,
   "metadata": {},
   "outputs": [],
   "source": []
  },
  {
   "cell_type": "code",
   "execution_count": null,
   "metadata": {},
   "outputs": [],
   "source": []
  }
 ],
 "metadata": {
  "kernelspec": {
   "display_name": "Python 3",
   "language": "python",
   "name": "python3"
  },
  "language_info": {
   "codemirror_mode": {
    "name": "ipython",
    "version": 3
   },
   "file_extension": ".py",
   "mimetype": "text/x-python",
   "name": "python",
   "nbconvert_exporter": "python",
   "pygments_lexer": "ipython3",
   "version": "3.8.3"
  }
 },
 "nbformat": 4,
 "nbformat_minor": 4
}
