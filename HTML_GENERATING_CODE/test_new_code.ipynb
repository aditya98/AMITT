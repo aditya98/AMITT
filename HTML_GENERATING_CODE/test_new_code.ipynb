{
 "cells": [
  {
   "cell_type": "code",
   "execution_count": 1,
   "metadata": {
    "scrolled": true
   },
   "outputs": [
    {
     "name": "stdout",
     "output_type": "stream",
     "text": [
      "updated ../phases_index.md\n",
      "updated ../tactics_index.md\n",
      "updated ../techniques_index.md\n",
      "updated ../tasks_index.md\n",
      "updated ../responsetype_index.md\n",
      "updated ../metatechniques_index.md\n",
      "updated ../actors_index.md\n",
      "updated ../detections_index.md\n",
      "updated ../counters_index.md\n",
      "updated ../incidents_index.md\n",
      "updated ../amitt_red_framework.md\n",
      "updated ../amitt_blue_framework.md\n",
      "updated ../amitt_red_framework_clickable.html\n",
      "Writing ../counter_tactics/TA01counters.md\n",
      "Writing ../counter_tactics/TA02counters.md\n",
      "Writing ../counter_tactics/TA03counters.md\n",
      "Writing ../counter_tactics/TA04counters.md\n",
      "Writing ../counter_tactics/TA05counters.md\n",
      "Writing ../counter_tactics/TA06counters.md\n",
      "Writing ../counter_tactics/TA07counters.md\n",
      "Writing ../counter_tactics/TA08counters.md\n",
      "Writing ../counter_tactics/TA09counters.md\n",
      "Writing ../counter_tactics/TA10counters.md\n",
      "Writing ../counter_tactics/TA11counters.md\n",
      "Writing ../counter_tactics/TA12counters.md\n",
      "updated ../tactics_by_responsetype_table.md\n",
      "Writing ../metatechniques/cleaningcounters.md\n",
      "Writing ../metatechniques/countermessagingcounters.md\n",
      "Writing ../metatechniques/data pollutioncounters.md\n",
      "Writing ../metatechniques/daylightcounters.md\n",
      "Writing ../metatechniques/dilutioncounters.md\n",
      "Writing ../metatechniques/diversioncounters.md\n",
      "Writing ../metatechniques/frictioncounters.md\n",
      "Writing ../metatechniques/metatechniquecounters.md\n",
      "Writing ../metatechniques/reduce resourcescounters.md\n",
      "Writing ../metatechniques/removalcounters.md\n",
      "Writing ../metatechniques/resiliencecounters.md\n",
      "Writing ../metatechniques/scoringcounters.md\n",
      "Writing ../metatechniques/targetingcounters.md\n",
      "Writing ../metatechniques/verificationcounters.md\n",
      "updated ../metatechniques_by_responsetype_table.md\n",
      "Writing ../resources_needed/counters.md\n",
      "Writing ../resources_needed/DHScounters.md\n",
      "Writing ../resources_needed/NGOcounters.md\n",
      "Writing ../resources_needed/activistscounters.md\n",
      "Writing ../resources_needed/adtechcounters.md\n",
      "Writing ../resources_needed/civil_societycounters.md\n",
      "Writing ../resources_needed/community_groupscounters.md\n",
      "Writing ../resources_needed/companiescounters.md\n",
      "Writing ../resources_needed/content_creatorscounters.md\n",
      "Writing ../resources_needed/data_scientistcounters.md\n",
      "Writing ../resources_needed/datastreamscounters.md\n",
      "Writing ../resources_needed/developerscounters.md\n",
      "Writing ../resources_needed/educatorscounters.md\n",
      "Writing ../resources_needed/elvescounters.md\n",
      "Writing ../resources_needed/factcheckerscounters.md\n",
      "Writing ../resources_needed/fundingcounters.md\n",
      "Writing ../resources_needed/gamesdesignerscounters.md\n",
      "Writing ../resources_needed/governmentcounters.md\n",
      "Writing ../resources_needed/government:policymakerscounters.md\n",
      "Writing ../resources_needed/influencerscounters.md\n",
      "Writing ../resources_needed/influencers:trusted_authoritycounters.md\n",
      "Writing ../resources_needed/infoseccounters.md\n",
      "Writing ../resources_needed/librariescounters.md\n",
      "Writing ../resources_needed/mediacounters.md\n",
      "Writing ../resources_needed/militarycounters.md\n",
      "Writing ../resources_needed/moneycounters.md\n",
      "Writing ../resources_needed/platform_admincounters.md\n",
      "Writing ../resources_needed/platform_admin:adtechcounters.md\n",
      "Writing ../resources_needed/platform_admin:fundingsitescounters.md\n",
      "Writing ../resources_needed/platform_admin:socialmediacounters.md\n",
      "Writing ../resources_needed/platform_algorithmscounters.md\n",
      "Writing ../resources_needed/platform_outreachcounters.md\n",
      "Writing ../resources_needed/platformscounters.md\n",
      "Writing ../resources_needed/publiccounters.md\n",
      "Writing ../resources_needed/public:account_ownerscounters.md\n",
      "Writing ../resources_needed/religious_organisationscounters.md\n",
      "Writing ../resources_needed/schoolscounters.md\n",
      "Writing ../resources_needed/server_admincounters.md\n",
      "updated ../resources_by_responsetype_table.md\n"
     ]
    }
   ],
   "source": [
    "from generate_amitt_ttps import Amitt\n",
    "amitt = Amitt()\n",
    "amitt.generate_and_write_datafiles()"
   ]
  },
  {
   "cell_type": "code",
   "execution_count": null,
   "metadata": {},
   "outputs": [],
   "source": [
    "vars(amitt)['tactics']"
   ]
  },
  {
   "cell_type": "code",
   "execution_count": null,
   "metadata": {},
   "outputs": [],
   "source": [
    "vars(amitt).keys()"
   ]
  },
  {
   "cell_type": "code",
   "execution_count": null,
   "metadata": {},
   "outputs": [],
   "source": [
    "###. TEST AREA"
   ]
  },
  {
   "cell_type": "code",
   "execution_count": 1,
   "metadata": {},
   "outputs": [
    {
     "data": {
      "text/plain": [
       "'Aaaa'"
      ]
     },
     "execution_count": 1,
     "metadata": {},
     "output_type": "execute_result"
    }
   ],
   "source": [
    "\"aaaa\".capitalize()"
   ]
  },
  {
   "cell_type": "code",
   "execution_count": 5,
   "metadata": {},
   "outputs": [],
   "source": [
    "cols = ['name', 'type', 'Year Started', 'To country', 'Found via']\n",
    "\n",
    "h2 = "
   ]
  },
  {
   "cell_type": "code",
   "execution_count": 4,
   "metadata": {},
   "outputs": [
    {
     "data": {
      "text/plain": [
       "'<th>name</th>\\n<th>type</th>\\n<th>Year Started</th>\\n<th>To country</th>\\n<th>Found via</th>\\n'"
      ]
     },
     "execution_count": 4,
     "metadata": {},
     "output_type": "execute_result"
    }
   ],
   "source": [
    "html =''\n",
    "for col in cols:\n",
    "    html += '<th>{}</th>\\n'.format(col)\n",
    "html"
   ]
  },
  {
   "cell_type": "code",
   "execution_count": 6,
   "metadata": {},
   "outputs": [
    {
     "data": {
      "text/plain": [
       "True"
      ]
     },
     "execution_count": 6,
     "metadata": {},
     "output_type": "execute_result"
    }
   ],
   "source": [
    "html == h2"
   ]
  },
  {
   "cell_type": "code",
   "execution_count": 4,
   "metadata": {},
   "outputs": [
    {
     "data": {
      "text/plain": [
       "'# AMITT Incidents:\\n\\n<table border=\"1\">\\n<tr>\\n<th>id</th>\\n<th>name</th>\\n<th>type</th>\\n<th>Year Started</th>\\n<th>To country</th>\\n<th>Found via</th>\\n</tr>\\n<tr>\\n<td><a href=\"incidents/I00001.md\">I00001</a></td>\\n<td>Blacktivists facebook group</td>\\n<td>incident</td>\\n<td>2016</td>\\n<td>USA</td>\\n<td>nan</td>\\n</tr>\\n<tr>\\n<td><a href=\"incidents/I00002.md\">I00002</a></td>\\n<td>#VaccinateUS</td>\\n<td>campaign</td>\\n<td>2014</td>\\n<td>World</td>\\n<td>nan</td>\\n</tr>\\n<tr>\\n<td><a href=\"incidents/I00003.md\">I00003</a></td>\\n<td>Beyonce protest rallies</td>\\n<td>incident</td>\\n<td>2016</td>\\n<td>USA</td>\\n<td>nan</td>\\n</tr>\\n<tr>\\n<td><a href=\"incidents/I00004.md\">I00004</a></td>\\n<td>#Macrongate</td>\\n<td>incident</td>\\n<td>2017</td>\\n<td>France</td>\\n<td>nan</td>\\n</tr>\\n<tr>\\n<td><a href=\"incidents/I00005.md\">I00005</a></td>\\n<td>Brexit vote</td>\\n<td>campaign</td>\\n<td>2016</td>\\n<td>UK</td>\\n<td>nan</td>\\n</tr>\\n<tr>\\n<td><a href=\"incidents/I00006.md\">I00006</a></td>\\n<td>Columbian Chemicals</td>\\n<td>incident</td>\\n<td>2014</td>\\n<td>USA</td>\\n<td>nan</td>\\n</tr>\\n<tr>\\n<td><a href=\"incidents/I00007.md\">I00007</a></td>\\n<td>Incirlik terrorists</td>\\n<td>incident</td>\\n<td>2016</td>\\n<td>USA</td>\\n<td>nan</td>\\n</tr>\\n<tr>\\n<td><a href=\"incidents/I00008.md\">I00008</a></td>\\n<td>Bujic</td>\\n<td>incident</td>\\n<td>2017</td>\\n<td>Serbia</td>\\n<td>nan</td>\\n</tr>\\n<tr>\\n<td><a href=\"incidents/I00009.md\">I00009</a></td>\\n<td>PhilippinesExpert</td>\\n<td>incident</td>\\n<td>2017</td>\\n<td>Philippines</td>\\n<td>nan</td>\\n</tr>\\n<tr>\\n<td><a href=\"incidents/I00010.md\">I00010</a></td>\\n<td>ParklandTeens</td>\\n<td>incident</td>\\n<td>2018</td>\\n<td>USA</td>\\n<td>nan</td>\\n</tr>\\n<tr>\\n<td><a href=\"incidents/I00011.md\">I00011</a></td>\\n<td>CovingtonTeen</td>\\n<td>incident</td>\\n<td>2019</td>\\n<td>USA</td>\\n<td>nan</td>\\n</tr>\\n<tr>\\n<td><a href=\"incidents/I00012.md\">I00012</a></td>\\n<td>ChinaSmog</td>\\n<td>incident</td>\\n<td>2011</td>\\n<td>China</td>\\n<td>nan</td>\\n</tr>\\n<tr>\\n<td><a href=\"incidents/I00013.md\">I00013</a></td>\\n<td>FranceBlacktivists</td>\\n<td>incident</td>\\n<td>2014</td>\\n<td>France</td>\\n<td>nan</td>\\n</tr>\\n<tr>\\n<td><a href=\"incidents/I00014.md\">I00014</a></td>\\n<td>GiletsJaunePileon</td>\\n<td>incident</td>\\n<td>2018</td>\\n<td>France</td>\\n<td>nan</td>\\n</tr>\\n<tr>\\n<td><a href=\"incidents/I00015.md\">I00015</a></td>\\n<td>ConcordDiscovery</td>\\n<td>incident</td>\\n<td>2019</td>\\n<td>USA</td>\\n<td>nan</td>\\n</tr>\\n<tr>\\n<td><a href=\"incidents/I00016.md\">I00016</a></td>\\n<td>LithuanianElves</td>\\n<td>campaign</td>\\n<td>2014</td>\\n<td>Lithuania</td>\\n<td>nan</td>\\n</tr>\\n<tr>\\n<td><a href=\"incidents/I00017.md\">I00017</a></td>\\n<td>US presidential elections</td>\\n<td>campaign</td>\\n<td>2016</td>\\n<td>USA</td>\\n<td>OII</td>\\n</tr>\\n<tr>\\n<td><a href=\"incidents/I00018.md\">I00018</a></td>\\n<td>DNC email leak incident</td>\\n<td>tactic</td>\\n<td>2016</td>\\n<td>USA</td>\\n<td>OII</td>\\n</tr>\\n<tr>\\n<td><a href=\"incidents/I00019.md\">I00019</a></td>\\n<td>MacronTiphaine</td>\\n<td>incident</td>\\n<td>2017</td>\\n<td>France</td>\\n<td>OII</td>\\n</tr>\\n<tr>\\n<td><a href=\"incidents/I00020.md\">I00020</a></td>\\n<td>3000 tanks</td>\\n<td>incident</td>\\n<td>2017</td>\\n<td>World</td>\\n<td>OII</td>\\n</tr>\\n<tr>\\n<td><a href=\"incidents/I00021.md\">I00021</a></td>\\n<td>Armenia elections</td>\\n<td>campaign</td>\\n<td>2017</td>\\n<td>Armenia</td>\\n<td>OII</td>\\n</tr>\\n<tr>\\n<td><a href=\"incidents/I00022.md\">I00022</a></td>\\n<td>#Macronleaks</td>\\n<td>incident</td>\\n<td>2017</td>\\n<td>France</td>\\n<td>OII</td>\\n</tr>\\n<tr>\\n<td><a href=\"incidents/I00023.md\">I00023</a></td>\\n<td>#dislikemacron</td>\\n<td>incident</td>\\n<td>2017</td>\\n<td>France</td>\\n<td>OII</td>\\n</tr>\\n<tr>\\n<td><a href=\"incidents/I00024.md\">I00024</a></td>\\n<td>#syriahoax</td>\\n<td>incident</td>\\n<td>2017</td>\\n<td>USA</td>\\n<td>OII</td>\\n</tr>\\n<tr>\\n<td><a href=\"incidents/I00025.md\">I00025</a></td>\\n<td>EU Army</td>\\n<td>incident</td>\\n<td>2018</td>\\n<td>EU</td>\\n<td>OII</td>\\n</tr>\\n<tr>\\n<td><a href=\"incidents/I00026.md\">I00026</a></td>\\n<td>Netherlands referendum on Ukraine</td>\\n<td>incident</td>\\n<td>2016</td>\\n<td>Netherlands</td>\\n<td>OII</td>\\n</tr>\\n<tr>\\n<td><a href=\"incidents/I00027.md\">I00027</a></td>\\n<td>crucifiedboy</td>\\n<td>incident</td>\\n<td>2014</td>\\n<td>Ukraine</td>\\n<td>OII</td>\\n</tr>\\n<tr>\\n<td><a href=\"incidents/I00028.md\">I00028</a></td>\\n<td>mh17 downed</td>\\n<td>incident</td>\\n<td>2014</td>\\n<td>Ukraine</td>\\n<td>OII</td>\\n</tr>\\n<tr>\\n<td><a href=\"incidents/I00029.md\">I00029</a></td>\\n<td>MH17 investigation</td>\\n<td>campaign</td>\\n<td>2016</td>\\n<td>Ukraine</td>\\n<td>OII</td>\\n</tr>\\n<tr>\\n<td><a href=\"incidents/I00030.md\">I00030</a></td>\\n<td>LastJedi</td>\\n<td>incident</td>\\n<td>2018</td>\\n<td>World</td>\\n<td>OII</td>\\n</tr>\\n<tr>\\n<td><a href=\"incidents/I00031.md\">I00031</a></td>\\n<td>antivax</td>\\n<td>apt</td>\\n<td>2018</td>\\n<td>World</td>\\n<td>OII</td>\\n</tr>\\n<tr>\\n<td><a href=\"incidents/I00032.md\">I00032</a></td>\\n<td>Kavanaugh</td>\\n<td>incident</td>\\n<td>2018</td>\\n<td>USA</td>\\n<td>OII</td>\\n</tr>\\n<tr>\\n<td><a href=\"incidents/I00033.md\">I00033</a></td>\\n<td>China 50cent Army</td>\\n<td>apt</td>\\n<td>2014</td>\\n<td>China</td>\\n<td>OII</td>\\n</tr>\\n<tr>\\n<td><a href=\"incidents/I00034.md\">I00034</a></td>\\n<td>DibaFacebookExpedition</td>\\n<td>incident</td>\\n<td>2016</td>\\n<td>Taiwan</td>\\n<td>OII</td>\\n</tr>\\n<tr>\\n<td><a href=\"incidents/I00035.md\">I00035</a></td>\\n<td>Brazilelections</td>\\n<td>campaign</td>\\n<td>2014</td>\\n<td>Brazil</td>\\n<td>OII</td>\\n</tr>\\n<tr>\\n<td><a href=\"incidents/I00036.md\">I00036</a></td>\\n<td>BrazilPresDebate</td>\\n<td>incident</td>\\n<td>2014</td>\\n<td>Brazil</td>\\n<td>OII</td>\\n</tr>\\n<tr>\\n<td><a href=\"incidents/I00037.md\">I00037</a></td>\\n<td>Rioelections</td>\\n<td>incident</td>\\n<td>2016</td>\\n<td>Brazil</td>\\n<td>OII</td>\\n</tr>\\n<tr>\\n<td><a href=\"incidents/I00038.md\">I00038</a></td>\\n<td>Brazilimpeachment</td>\\n<td>incident</td>\\n<td>2016</td>\\n<td>Brazil</td>\\n<td>OII</td>\\n</tr>\\n<tr>\\n<td><a href=\"incidents/I00039.md\">I00039</a></td>\\n<td>MerkelFacebook</td>\\n<td>incident</td>\\n<td>2017</td>\\n<td>Germany</td>\\n<td>OII</td>\\n</tr>\\n<tr>\\n<td><a href=\"incidents/I00040.md\">I00040</a></td>\\n<td>modamaniSelfie</td>\\n<td>incident</td>\\n<td>2015</td>\\n<td>Germany</td>\\n<td>OII</td>\\n</tr>\\n<tr>\\n<td><a href=\"incidents/I00041.md\">I00041</a></td>\\n<td>Refugee crime map</td>\\n<td>incident</td>\\n<td>2017</td>\\n<td>Germany</td>\\n<td>OII</td>\\n</tr>\\n<tr>\\n<td><a href=\"incidents/I00042.md\">I00042</a></td>\\n<td>Saudi/Qatar bot dispute</td>\\n<td>incident</td>\\n<td>2017</td>\\n<td>Qatar</td>\\n<td>MIS</td>\\n</tr>\\n<tr>\\n<td><a href=\"incidents/I00043.md\">I00043</a></td>\\n<td>FCC comments</td>\\n<td>incident</td>\\n<td>2017</td>\\n<td>USA</td>\\n<td>MIS</td>\\n</tr>\\n<tr>\\n<td><a href=\"incidents/I00044.md\">I00044</a></td>\\n<td>JadeHelm exercise</td>\\n<td>incident</td>\\n<td>2015</td>\\n<td>USA</td>\\n<td>MIS</td>\\n</tr>\\n<tr>\\n<td><a href=\"incidents/I00045.md\">I00045</a></td>\\n<td>Skripal</td>\\n<td>incident</td>\\n<td>2018</td>\\n<td>UK</td>\\n<td>nan</td>\\n</tr>\\n<tr>\\n<td><a href=\"incidents/I00046.md\">I00046</a></td>\\n<td>North Macedonia</td>\\n<td>incident</td>\\n<td>2018</td>\\n<td>Macedonia</td>\\n<td>nan</td>\\n</tr>\\n<tr>\\n<td><a href=\"incidents/I00047.md\">I00047</a></td>\\n<td>Sea of Azov</td>\\n<td>incident</td>\\n<td>2018</td>\\n<td>World</td>\\n<td>nan</td>\\n</tr>\\n<tr>\\n<td><a href=\"incidents/I00048.md\">I00048</a></td>\\n<td>White Helmets</td>\\n<td>campaign</td>\\n<td>2015</td>\\n<td>World</td>\\n<td>nan</td>\\n</tr>\\n<tr>\\n<td><a href=\"incidents/I00049.md\">I00049</a></td>\\n<td>White Helmets: Chemical Weapons</td>\\n<td>incident</td>\\n<td>2017</td>\\n<td>World</td>\\n<td>nan</td>\\n</tr>\\n<tr>\\n<td><a href=\"incidents/I00050.md\">I00050</a></td>\\n<td>#HandsOffVenezuela</td>\\n<td>incident</td>\\n<td>2019</td>\\n<td>World</td>\\n<td>nan</td>\\n</tr>\\n<tr>\\n<td><a href=\"incidents/I00051.md\">I00051</a></td>\\n<td>Integrity Initiative</td>\\n<td>incident</td>\\n<td>2018</td>\\n<td>World</td>\\n<td>nan</td>\\n</tr>\\n<tr>\\n<td><a href=\"incidents/I00052.md\">I00052</a></td>\\n<td>China overiew</td>\\n<td>campaign</td>\\n<td>2015</td>\\n<td>World</td>\\n<td>nan</td>\\n</tr>\\n<tr>\\n<td><a href=\"incidents/I00053.md\">I00053</a></td>\\n<td>China Huawei CFO Arrest</td>\\n<td>incident</td>\\n<td>2018</td>\\n<td>World</td>\\n<td>nan</td>\\n</tr>\\n<tr>\\n<td><a href=\"incidents/I00054.md\">I00054</a></td>\\n<td>China Muslims</td>\\n<td>incident</td>\\n<td>2018</td>\\n<td>World</td>\\n<td>nan</td>\\n</tr>\\n<tr>\\n<td><a href=\"incidents/I00055.md\">I00055</a></td>\\n<td>50 Cent Army</td>\\n<td>campaign</td>\\n<td>2008</td>\\n<td>World</td>\\n<td>nan</td>\\n</tr>\\n<tr>\\n<td><a href=\"incidents/I00056.md\">I00056</a></td>\\n<td>Iran Influence Operations</td>\\n<td>campaign</td>\\n<td>2012</td>\\n<td>World</td>\\n<td>nan</td>\\n</tr>\\n<tr>\\n<td><a href=\"incidents/I00057.md\">I00057</a></td>\\n<td>Mexico Election</td>\\n<td>incident</td>\\n<td>2018</td>\\n<td>Mexico</td>\\n<td>nan</td>\\n</tr>\\n<tr>\\n<td><a href=\"incidents/I00058.md\">I00058</a></td>\\n<td>Chemnitz</td>\\n<td>incident</td>\\n<td>2018</td>\\n<td>Germany</td>\\n<td>nan</td>\\n</tr>\\n<tr>\\n<td><a href=\"incidents/I00059.md\">I00059</a></td>\\n<td>Myanmar - Rohingya </td>\\n<td>campaign</td>\\n<td>2014</td>\\n<td>Myanmar</td>\\n<td>nan</td>\\n</tr>\\n<tr>\\n<td><a href=\"incidents/I00060.md\">I00060</a></td>\\n<td>White Genocide</td>\\n<td>campaign</td>\\n<td>2018</td>\\n<td>World</td>\\n<td>nan</td>\\n</tr>\\n<tr>\\n<td><a href=\"incidents/I00061.md\">I00061</a></td>\\n<td>Military veterans Targetting</td>\\n<td>campaign</td>\\n<td>2017</td>\\n<td>US</td>\\n<td>nan</td>\\n</tr>\\n<tr>\\n<td><a href=\"incidents/I00062.md\">I00062</a></td>\\n<td>Brexit/UK ongoing</td>\\n<td>campaign</td>\\n<td>2015</td>\\n<td>UK</td>\\n<td>nan</td>\\n</tr>\\n<tr>\\n<td><a href=\"incidents/I00063.md\">I00063</a></td>\\n<td>Olympic Doping Scandal</td>\\n<td>campaign</td>\\n<td>2016</td>\\n<td>World</td>\\n<td>nan</td>\\n</tr>\\n</table>\\n'"
      ]
     },
     "execution_count": 4,
     "metadata": {},
     "output_type": "execute_result"
    }
   ],
   "source": [
    "objectname = 'incidents'\n",
    "objectcols = ['name', 'type', 'Year Started', 'To country', 'Found via']\n",
    "dfobject = amitt.df_incidents\n",
    "outfile='../incidents_list.md'\n",
    "\n",
    "html = '''# AMITT {}:\n",
    "\n",
    "<table border=\"1\">\n",
    "<tr>\n",
    "'''.format(objectname.capitalize())\n",
    "\n",
    "# Create header row\n",
    "html += '<th>{}</th>\\n'.format('id')\n",
    "html += ''.join(['<th>{}</th>\\n'.format(col) for col in objectcols])\n",
    "html += '</tr>\\n'\n",
    "\n",
    "# Add row for each object\n",
    "for index, row in dfobject[dfobject['name'].notnull()].iterrows():\n",
    "    html += '<tr>\\n'\n",
    "    html += '<td><a href=\"{0}/{1}.md\">{1}</a></td>\\n'.format(objectname, row['id'])\n",
    "    html += ''.join(['<td>{}</td>\\n'.format(row[col]) for col in objectcols])\n",
    "    html += '</tr>\\n'\n",
    "html += '</table>\\n'\n",
    "html"
   ]
  },
  {
   "cell_type": "code",
   "execution_count": 3,
   "metadata": {},
   "outputs": [
    {
     "data": {
      "text/plain": [
       "'# AMITT Incidents:\\n\\n<table border=\"1\">\\n<tr>\\n<th>id</th>\\n<th>name</th>\\n<th>type</th>\\n<th>Year Started</th>\\n<th>To country</th>\\n<th>Found via</th>\\n</tr>\\n<tr>\\n<td><a href=\"incidents/I00001.md\">I00001</a></td>\\n'"
      ]
     },
     "execution_count": 3,
     "metadata": {},
     "output_type": "execute_result"
    }
   ],
   "source": [
    "html"
   ]
  },
  {
   "cell_type": "code",
   "execution_count": null,
   "metadata": {},
   "outputs": [],
   "source": []
  }
 ],
 "metadata": {
  "kernelspec": {
   "display_name": "Python 3",
   "language": "python",
   "name": "python3"
  },
  "language_info": {
   "codemirror_mode": {
    "name": "ipython",
    "version": 3
   },
   "file_extension": ".py",
   "mimetype": "text/x-python",
   "name": "python",
   "nbconvert_exporter": "python",
   "pygments_lexer": "ipython3",
   "version": "3.8.3"
  }
 },
 "nbformat": 4,
 "nbformat_minor": 4
}
