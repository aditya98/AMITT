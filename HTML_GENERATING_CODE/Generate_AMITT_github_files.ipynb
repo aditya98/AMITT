{
 "cells": [
  {
   "cell_type": "markdown",
   "metadata": {},
   "source": [
    "# Generate AMITT github files\n",
    "\n",
    "Generate all the AMITT github files from the AMITT master spreadsheet, being careful to reatin any comments people have made below the \"don't write above this\" line in them. "
   ]
  },
  {
   "cell_type": "code",
   "execution_count": 3,
   "metadata": {
    "scrolled": true
   },
   "outputs": [
    {
     "name": "stdout",
     "output_type": "stream",
     "text": [
      "updated ../amitt_red_framework.md\n",
      "updated ../amitt_red_framework_clickable.html\n",
      "updated ../amitt_blue_framework.md\n",
      "updated ../amitt_blue_framework_clickable.html\n",
      "updated ../phases_index.md\n",
      "updated ../tactics_index.md\n",
      "updated ../techniques_index.md\n",
      "updated ../tasks_index.md\n",
      "updated ../incidents_index.md\n",
      "updated ../counters_index.md\n",
      "Updating ../counters/C00006.md\n",
      "Updating ../counters/C00006.md\n",
      "updated ../metatechniques_index.md\n",
      "updated ../actortypes_index.md\n",
      "Updating ../actortypes/A001.md\n",
      "Updating ../actortypes/A002.md\n",
      "Updating ../actortypes/A003.md\n",
      "Updating ../actortypes/A004.md\n",
      "Updating ../actortypes/A005.md\n",
      "Updating ../actortypes/A006.md\n",
      "Updating ../actortypes/A007.md\n",
      "Updating ../actortypes/A008.md\n",
      "Updating ../actortypes/A009.md\n",
      "Updating ../actortypes/A010.md\n",
      "Updating ../actortypes/A011.md\n",
      "Updating ../actortypes/A012.md\n",
      "Updating ../actortypes/A013.md\n",
      "Updating ../actortypes/A014.md\n",
      "Updating ../actortypes/A015.md\n",
      "Updating ../actortypes/A016.md\n",
      "Updating ../actortypes/A017.md\n",
      "Updating ../actortypes/A018.md\n",
      "Updating ../actortypes/A019.md\n",
      "Updating ../actortypes/A020.md\n",
      "Updating ../actortypes/A021.md\n",
      "Updating ../actortypes/A022.md\n",
      "Updating ../actortypes/A023.md\n",
      "Updating ../actortypes/A024.md\n",
      "Updating ../actortypes/A025.md\n",
      "Updating ../actortypes/A026.md\n",
      "Updating ../actortypes/A027.md\n",
      "Updating ../actortypes/A028.md\n",
      "Updating ../actortypes/A029.md\n",
      "Updating ../actortypes/A030.md\n",
      "Updating ../actortypes/A031.md\n",
      "Updating ../actortypes/A032.md\n",
      "Updating ../actortypes/A033.md\n",
      "updated ../responsetype_index.md\n",
      "updated ../detections_index.md\n",
      "updated ../tactics_by_responsetype_table.md\n",
      "updated ../metatechniques_by_responsetype_table.md\n"
     ]
    }
   ],
   "source": [
    "import pandas as pd\n",
    "from generate_amitt_ttps import Amitt\n",
    "amitt = Amitt()\n",
    "amitt.generate_and_write_datafiles()"
   ]
  },
  {
   "cell_type": "code",
   "execution_count": null,
   "metadata": {},
   "outputs": [],
   "source": []
  }
 ],
 "metadata": {
  "kernelspec": {
   "display_name": "Python 3",
   "language": "python",
   "name": "python3"
  },
  "language_info": {
   "codemirror_mode": {
    "name": "ipython",
    "version": 3
   },
   "file_extension": ".py",
   "mimetype": "text/x-python",
   "name": "python",
   "nbconvert_exporter": "python",
   "pygments_lexer": "ipython3",
   "version": "3.8.3"
  }
 },
 "nbformat": 4,
 "nbformat_minor": 4
}
